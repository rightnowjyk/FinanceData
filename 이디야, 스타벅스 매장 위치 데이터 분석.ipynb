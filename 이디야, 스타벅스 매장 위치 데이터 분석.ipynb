{
 "cells": [
  {
   "cell_type": "code",
   "execution_count": 1,
   "id": "eee5fc9f",
   "metadata": {},
   "outputs": [],
   "source": [
    "import pandas as pd \n",
    "import numpy as np\n",
    "import folium\n",
    "import time\n",
    "\n",
    "from bs4 import BeautifulSoup\n",
    "from tqdm import tqdm_notebook\n",
    "from selenium import webdriver\n",
    "\n",
    "from selenium.webdriver.common.by import By\n",
    "from selenium.webdriver.support.ui import WebDriverWait\n",
    "from selenium.webdriver.support import expected_conditions as EC"
   ]
  },
  {
   "cell_type": "code",
   "execution_count": 2,
   "id": "d95abc79",
   "metadata": {},
   "outputs": [
    {
     "name": "stderr",
     "output_type": "stream",
     "text": [
      "C:\\Users\\jukim\\AppData\\Local\\Temp\\ipykernel_1992\\977915328.py:5: DeprecationWarning: executable_path has been deprecated, please pass in a Service object\n",
      "  driver = webdriver.Chrome(\"../driver/chromedriver.exe\", options=chrome_options)\n"
     ]
    }
   ],
   "source": [
    "# 웹드라이버 설정\n",
    "chrome_options = webdriver.ChromeOptions()\n",
    "#chrome_options.add_argument(\"headless\")\n",
    "\n",
    "driver = webdriver.Chrome(\"../driver/chromedriver.exe\", options=chrome_options)\n",
    "driver.implicitly_wait(10)\n",
    "\n",
    "# 스타벅스 지도 페이지 오픈\n",
    "starbuck_map_url = \"https://www.starbucks.co.kr/store/store_map.do?disp=locale\"\n",
    "driver.get(starbuck_map_url)"
   ]
  },
  {
   "cell_type": "code",
   "execution_count": 3,
   "id": "17000eac",
   "metadata": {},
   "outputs": [],
   "source": [
    "# 윈도우 화면 최대화\n",
    "driver.maximize_window()"
   ]
  },
  {
   "cell_type": "code",
   "execution_count": 4,
   "id": "692a4d79",
   "metadata": {},
   "outputs": [],
   "source": [
    "#스타벅스 서울 클릭\n",
    "starbucks_seoul_css = \"#container > div > form > fieldset > div > section > article.find_store_cont > article > article:nth-child(4) > div.loca_step1 > div.loca_step1_cont > ul > li:nth-child(1) > a\"\n",
    "WebDriverWait(driver, 5).until(EC.presence_of_element_located((By.CSS_SELECTOR, starbucks_seoul_css))).click()\n"
   ]
  },
  {
   "cell_type": "code",
   "execution_count": 5,
   "id": "796dfab4",
   "metadata": {},
   "outputs": [],
   "source": [
    "# 스타벅스 서울 전체 클릭\n",
    "starbucks_seoul_all_css = \"#mCSB_2_container > ul > li:nth-child(1) > a\"\n",
    "WebDriverWait(driver, 5).until(EC.presence_of_element_located((By.CSS_SELECTOR, starbucks_seoul_all_css))).click()\n"
   ]
  },
  {
   "cell_type": "code",
   "execution_count": 6,
   "id": "e177e0ca",
   "metadata": {},
   "outputs": [],
   "source": [
    "# 스타벅스 서울 전체 HTML 파싱\n",
    "html = driver.page_source\n",
    "soup = BeautifulSoup(html, \"html.parser\")"
   ]
  },
  {
   "cell_type": "code",
   "execution_count": 7,
   "id": "9fdc8ddd",
   "metadata": {},
   "outputs": [],
   "source": [
    "container = soup.find(\"div\", id = \"mCSB_3_container\")\n",
    "li_all = container.find_all(\"li\")"
   ]
  },
  {
   "cell_type": "code",
   "execution_count": 8,
   "id": "b64c28aa",
   "metadata": {},
   "outputs": [],
   "source": [
    "starbucks_data = []\n",
    "\n",
    "for li in li_all:\n",
    "    name = li.find(\"strong\").text.strip()\n",
    "    address = li.find(\"p\").text.strip().replace(\"1522-3232\", \"\")\n",
    "    gu = address.split(\" \")[1]\n",
    "    each = {\n",
    "        \"매장이름\":name, \"주소\":address, \"구\":gu, \"브랜드\":\"스타벅스\"\n",
    "    }\n",
    "    starbucks_data.append(each)\n",
    "    "
   ]
  },
  {
   "cell_type": "code",
   "execution_count": 9,
   "id": "e478b36f",
   "metadata": {
    "scrolled": true
   },
   "outputs": [
    {
     "data": {
      "text/plain": [
       "599"
      ]
     },
     "execution_count": 9,
     "metadata": {},
     "output_type": "execute_result"
    }
   ],
   "source": [
    "len(starbucks_data)"
   ]
  },
  {
   "cell_type": "code",
   "execution_count": 10,
   "id": "b2969f1a",
   "metadata": {},
   "outputs": [
    {
     "data": {
      "text/html": [
       "<div>\n",
       "<style scoped>\n",
       "    .dataframe tbody tr th:only-of-type {\n",
       "        vertical-align: middle;\n",
       "    }\n",
       "\n",
       "    .dataframe tbody tr th {\n",
       "        vertical-align: top;\n",
       "    }\n",
       "\n",
       "    .dataframe thead th {\n",
       "        text-align: right;\n",
       "    }\n",
       "</style>\n",
       "<table border=\"1\" class=\"dataframe\">\n",
       "  <thead>\n",
       "    <tr style=\"text-align: right;\">\n",
       "      <th></th>\n",
       "      <th>매장이름</th>\n",
       "      <th>주소</th>\n",
       "      <th>구</th>\n",
       "      <th>브랜드</th>\n",
       "    </tr>\n",
       "  </thead>\n",
       "  <tbody>\n",
       "    <tr>\n",
       "      <th>594</th>\n",
       "      <td>사가정역</td>\n",
       "      <td>서울특별시 중랑구 면목로 310</td>\n",
       "      <td>중랑구</td>\n",
       "      <td>스타벅스</td>\n",
       "    </tr>\n",
       "    <tr>\n",
       "      <th>595</th>\n",
       "      <td>상봉역</td>\n",
       "      <td>서울특별시 중랑구 망우로 307 (상봉동)</td>\n",
       "      <td>중랑구</td>\n",
       "      <td>스타벅스</td>\n",
       "    </tr>\n",
       "    <tr>\n",
       "      <th>596</th>\n",
       "      <td>묵동</td>\n",
       "      <td>서울특별시 중랑구 동일로 952 (묵동, 로프트원 태릉입구역) 1층</td>\n",
       "      <td>중랑구</td>\n",
       "      <td>스타벅스</td>\n",
       "    </tr>\n",
       "    <tr>\n",
       "      <th>597</th>\n",
       "      <td>양원역</td>\n",
       "      <td>서울특별시 중랑구 양원역로10길 3 (망우동)</td>\n",
       "      <td>중랑구</td>\n",
       "      <td>스타벅스</td>\n",
       "    </tr>\n",
       "    <tr>\n",
       "      <th>598</th>\n",
       "      <td>중화역</td>\n",
       "      <td>서울특별시 중랑구 봉화산로 35</td>\n",
       "      <td>중랑구</td>\n",
       "      <td>스타벅스</td>\n",
       "    </tr>\n",
       "  </tbody>\n",
       "</table>\n",
       "</div>"
      ],
      "text/plain": [
       "     매장이름                                     주소    구   브랜드\n",
       "594  사가정역                      서울특별시 중랑구 면목로 310  중랑구  스타벅스\n",
       "595   상봉역                서울특별시 중랑구 망우로 307 (상봉동)  중랑구  스타벅스\n",
       "596    묵동  서울특별시 중랑구 동일로 952 (묵동, 로프트원 태릉입구역) 1층  중랑구  스타벅스\n",
       "597   양원역              서울특별시 중랑구 양원역로10길 3 (망우동)  중랑구  스타벅스\n",
       "598   중화역                     서울특별시 중랑구 봉화산로 35   중랑구  스타벅스"
      ]
     },
     "execution_count": 10,
     "metadata": {},
     "output_type": "execute_result"
    }
   ],
   "source": [
    "df_starbucks = pd.DataFrame(starbucks_data)\n",
    "df_starbucks.tail()"
   ]
  },
  {
   "cell_type": "code",
   "execution_count": 11,
   "id": "6f25ec59",
   "metadata": {},
   "outputs": [
    {
     "data": {
      "text/plain": [
       "25"
      ]
     },
     "execution_count": 11,
     "metadata": {},
     "output_type": "execute_result"
    }
   ],
   "source": [
    "gu_list = list(df_starbucks[\"구\"].unique())\n",
    "len(gu_list)"
   ]
  },
  {
   "cell_type": "code",
   "execution_count": 15,
   "id": "ee392aaf",
   "metadata": {},
   "outputs": [],
   "source": [
    "# 이디야 지도 페이지 오픈\n",
    "eidya_map_url = \"https://ediya.com/contents/find_store.html\"\n",
    "driver.get(eidya_map_url)"
   ]
  },
  {
   "cell_type": "code",
   "execution_count": 16,
   "id": "a899d205",
   "metadata": {},
   "outputs": [
    {
     "ename": "WebDriverException",
     "evalue": "Message: unknown error: failed to change window state to 'normal', current state is 'maximized'\n  (Session info: chrome=109.0.5414.120)\nStacktrace:\nBacktrace:\n\t(No symbol) [0x01196643]\n\t(No symbol) [0x0112BE21]\n\t(No symbol) [0x0102DA9D]\n\t(No symbol) [0x01013995]\n\t(No symbol) [0x010123D3]\n\t(No symbol) [0x01010C35]\n\t(No symbol) [0x010A8CBF]\n\t(No symbol) [0x0107FD7C]\n\t(No symbol) [0x01096B09]\n\t(No symbol) [0x0107FB76]\n\t(No symbol) [0x010549C1]\n\t(No symbol) [0x01055E5D]\n\tGetHandleVerifier [0x0140A142+2497106]\n\tGetHandleVerifier [0x014385D3+2686691]\n\tGetHandleVerifier [0x0143BB9C+2700460]\n\tGetHandleVerifier [0x01243B10+635936]\n\t(No symbol) [0x01134A1F]\n\t(No symbol) [0x0113A418]\n\t(No symbol) [0x0113A505]\n\t(No symbol) [0x0114508B]\n\tBaseThreadInitThunk [0x767B7D69+25]\n\tRtlInitializeExceptionChain [0x7784BB9B+107]\n\tRtlClearBits [0x7784BB1F+191]\n",
     "output_type": "error",
     "traceback": [
      "\u001b[1;31m---------------------------------------------------------------------------\u001b[0m",
      "\u001b[1;31mWebDriverException\u001b[0m                        Traceback (most recent call last)",
      "\u001b[1;32m~\\AppData\\Local\\Temp\\ipykernel_1992\\334054254.py\u001b[0m in \u001b[0;36m<module>\u001b[1;34m\u001b[0m\n\u001b[0;32m      1\u001b[0m \u001b[1;31m# 이디야 페이지 화면 최대화\u001b[0m\u001b[1;33m\u001b[0m\u001b[1;33m\u001b[0m\u001b[0m\n\u001b[0;32m      2\u001b[0m \u001b[1;33m\u001b[0m\u001b[0m\n\u001b[1;32m----> 3\u001b[1;33m \u001b[0mdriver\u001b[0m\u001b[1;33m.\u001b[0m\u001b[0mmaximize_window\u001b[0m\u001b[1;33m(\u001b[0m\u001b[1;33m)\u001b[0m\u001b[1;33m\u001b[0m\u001b[1;33m\u001b[0m\u001b[0m\n\u001b[0m",
      "\u001b[1;32m~\\anaconda3\\lib\\site-packages\\selenium\\webdriver\\remote\\webdriver.py\u001b[0m in \u001b[0;36mmaximize_window\u001b[1;34m(self)\u001b[0m\n\u001b[0;32m    590\u001b[0m         \u001b[1;34m\"\"\"Maximizes the current window that webdriver is using.\"\"\"\u001b[0m\u001b[1;33m\u001b[0m\u001b[1;33m\u001b[0m\u001b[0m\n\u001b[0;32m    591\u001b[0m         \u001b[0mcommand\u001b[0m \u001b[1;33m=\u001b[0m \u001b[0mCommand\u001b[0m\u001b[1;33m.\u001b[0m\u001b[0mW3C_MAXIMIZE_WINDOW\u001b[0m\u001b[1;33m\u001b[0m\u001b[1;33m\u001b[0m\u001b[0m\n\u001b[1;32m--> 592\u001b[1;33m         \u001b[0mself\u001b[0m\u001b[1;33m.\u001b[0m\u001b[0mexecute\u001b[0m\u001b[1;33m(\u001b[0m\u001b[0mcommand\u001b[0m\u001b[1;33m,\u001b[0m \u001b[1;32mNone\u001b[0m\u001b[1;33m)\u001b[0m\u001b[1;33m\u001b[0m\u001b[1;33m\u001b[0m\u001b[0m\n\u001b[0m\u001b[0;32m    593\u001b[0m \u001b[1;33m\u001b[0m\u001b[0m\n\u001b[0;32m    594\u001b[0m     \u001b[1;32mdef\u001b[0m \u001b[0mfullscreen_window\u001b[0m\u001b[1;33m(\u001b[0m\u001b[0mself\u001b[0m\u001b[1;33m)\u001b[0m \u001b[1;33m->\u001b[0m \u001b[1;32mNone\u001b[0m\u001b[1;33m:\u001b[0m\u001b[1;33m\u001b[0m\u001b[1;33m\u001b[0m\u001b[0m\n",
      "\u001b[1;32m~\\anaconda3\\lib\\site-packages\\selenium\\webdriver\\remote\\webdriver.py\u001b[0m in \u001b[0;36mexecute\u001b[1;34m(self, driver_command, params)\u001b[0m\n\u001b[0;32m    438\u001b[0m         \u001b[0mresponse\u001b[0m \u001b[1;33m=\u001b[0m \u001b[0mself\u001b[0m\u001b[1;33m.\u001b[0m\u001b[0mcommand_executor\u001b[0m\u001b[1;33m.\u001b[0m\u001b[0mexecute\u001b[0m\u001b[1;33m(\u001b[0m\u001b[0mdriver_command\u001b[0m\u001b[1;33m,\u001b[0m \u001b[0mparams\u001b[0m\u001b[1;33m)\u001b[0m\u001b[1;33m\u001b[0m\u001b[1;33m\u001b[0m\u001b[0m\n\u001b[0;32m    439\u001b[0m         \u001b[1;32mif\u001b[0m \u001b[0mresponse\u001b[0m\u001b[1;33m:\u001b[0m\u001b[1;33m\u001b[0m\u001b[1;33m\u001b[0m\u001b[0m\n\u001b[1;32m--> 440\u001b[1;33m             \u001b[0mself\u001b[0m\u001b[1;33m.\u001b[0m\u001b[0merror_handler\u001b[0m\u001b[1;33m.\u001b[0m\u001b[0mcheck_response\u001b[0m\u001b[1;33m(\u001b[0m\u001b[0mresponse\u001b[0m\u001b[1;33m)\u001b[0m\u001b[1;33m\u001b[0m\u001b[1;33m\u001b[0m\u001b[0m\n\u001b[0m\u001b[0;32m    441\u001b[0m             \u001b[0mresponse\u001b[0m\u001b[1;33m[\u001b[0m\u001b[1;34m\"value\"\u001b[0m\u001b[1;33m]\u001b[0m \u001b[1;33m=\u001b[0m \u001b[0mself\u001b[0m\u001b[1;33m.\u001b[0m\u001b[0m_unwrap_value\u001b[0m\u001b[1;33m(\u001b[0m\u001b[0mresponse\u001b[0m\u001b[1;33m.\u001b[0m\u001b[0mget\u001b[0m\u001b[1;33m(\u001b[0m\u001b[1;34m\"value\"\u001b[0m\u001b[1;33m,\u001b[0m \u001b[1;32mNone\u001b[0m\u001b[1;33m)\u001b[0m\u001b[1;33m)\u001b[0m\u001b[1;33m\u001b[0m\u001b[1;33m\u001b[0m\u001b[0m\n\u001b[0;32m    442\u001b[0m             \u001b[1;32mreturn\u001b[0m \u001b[0mresponse\u001b[0m\u001b[1;33m\u001b[0m\u001b[1;33m\u001b[0m\u001b[0m\n",
      "\u001b[1;32m~\\anaconda3\\lib\\site-packages\\selenium\\webdriver\\remote\\errorhandler.py\u001b[0m in \u001b[0;36mcheck_response\u001b[1;34m(self, response)\u001b[0m\n\u001b[0;32m    243\u001b[0m                 \u001b[0malert_text\u001b[0m \u001b[1;33m=\u001b[0m \u001b[0mvalue\u001b[0m\u001b[1;33m[\u001b[0m\u001b[1;34m\"alert\"\u001b[0m\u001b[1;33m]\u001b[0m\u001b[1;33m.\u001b[0m\u001b[0mget\u001b[0m\u001b[1;33m(\u001b[0m\u001b[1;34m\"text\"\u001b[0m\u001b[1;33m)\u001b[0m\u001b[1;33m\u001b[0m\u001b[1;33m\u001b[0m\u001b[0m\n\u001b[0;32m    244\u001b[0m             \u001b[1;32mraise\u001b[0m \u001b[0mexception_class\u001b[0m\u001b[1;33m(\u001b[0m\u001b[0mmessage\u001b[0m\u001b[1;33m,\u001b[0m \u001b[0mscreen\u001b[0m\u001b[1;33m,\u001b[0m \u001b[0mstacktrace\u001b[0m\u001b[1;33m,\u001b[0m \u001b[0malert_text\u001b[0m\u001b[1;33m)\u001b[0m  \u001b[1;31m# type: ignore[call-arg]  # mypy is not smart enough here\u001b[0m\u001b[1;33m\u001b[0m\u001b[1;33m\u001b[0m\u001b[0m\n\u001b[1;32m--> 245\u001b[1;33m         \u001b[1;32mraise\u001b[0m \u001b[0mexception_class\u001b[0m\u001b[1;33m(\u001b[0m\u001b[0mmessage\u001b[0m\u001b[1;33m,\u001b[0m \u001b[0mscreen\u001b[0m\u001b[1;33m,\u001b[0m \u001b[0mstacktrace\u001b[0m\u001b[1;33m)\u001b[0m\u001b[1;33m\u001b[0m\u001b[1;33m\u001b[0m\u001b[0m\n\u001b[0m",
      "\u001b[1;31mWebDriverException\u001b[0m: Message: unknown error: failed to change window state to 'normal', current state is 'maximized'\n  (Session info: chrome=109.0.5414.120)\nStacktrace:\nBacktrace:\n\t(No symbol) [0x01196643]\n\t(No symbol) [0x0112BE21]\n\t(No symbol) [0x0102DA9D]\n\t(No symbol) [0x01013995]\n\t(No symbol) [0x010123D3]\n\t(No symbol) [0x01010C35]\n\t(No symbol) [0x010A8CBF]\n\t(No symbol) [0x0107FD7C]\n\t(No symbol) [0x01096B09]\n\t(No symbol) [0x0107FB76]\n\t(No symbol) [0x010549C1]\n\t(No symbol) [0x01055E5D]\n\tGetHandleVerifier [0x0140A142+2497106]\n\tGetHandleVerifier [0x014385D3+2686691]\n\tGetHandleVerifier [0x0143BB9C+2700460]\n\tGetHandleVerifier [0x01243B10+635936]\n\t(No symbol) [0x01134A1F]\n\t(No symbol) [0x0113A418]\n\t(No symbol) [0x0113A505]\n\t(No symbol) [0x0114508B]\n\tBaseThreadInitThunk [0x767B7D69+25]\n\tRtlInitializeExceptionChain [0x7784BB9B+107]\n\tRtlClearBits [0x7784BB1F+191]\n"
     ]
    }
   ],
   "source": [
    "# 이디야 페이지 화면 최대화\n",
    "\n",
    "driver.maximize_window()"
   ]
  },
  {
   "cell_type": "code",
   "execution_count": null,
   "id": "910ca4a3",
   "metadata": {},
   "outputs": [],
   "source": [
    " # 이디야 주소 검색 클릭\n",
    "eidya_address_css = \"#contentWrap > div.contents > div > div.store_search_pop > ul > li:nth-child(2) > a\"\n",
    "WebDriverWait(driver, 5).until(EC.presence_of_element_located((By.CSS_SELECTOR, eidya_address_css))).click()"
   ]
  },
  {
   "cell_type": "code",
   "execution_count": 25,
   "id": "9b8a72e0",
   "metadata": {},
   "outputs": [
    {
     "name": "stderr",
     "output_type": "stream",
     "text": [
      "C:\\Users\\jukim\\AppData\\Local\\Temp\\ipykernel_1992\\4044251298.py:4: TqdmDeprecationWarning: This function will be removed in tqdm==5.0.0\n",
      "Please use `tqdm.notebook.tqdm` instead of `tqdm.tqdm_notebook`\n",
      "  for gu in tqdm_notebook(gu_list):\n"
     ]
    },
    {
     "data": {
      "application/vnd.jupyter.widget-view+json": {
       "model_id": "32a1745adee1402ba84971c88e9e6f42",
       "version_major": 2,
       "version_minor": 0
      },
      "text/plain": [
       "  0%|          | 0/25 [00:00<?, ?it/s]"
      ]
     },
     "metadata": {},
     "output_type": "display_data"
    }
   ],
   "source": [
    "eidya_data = []\n",
    "\n",
    "# 이디야 지도 서울 > 지역별 데이터 검색\n",
    "for gu in tqdm_notebook(gu_list):\n",
    "    \n",
    "    eidya_search_keyword_css = \"#keyword\"\n",
    "    \n",
    "    #이디야 주소 검색어 초기화\n",
    "    WebDriverWait(driver, 5).until(EC.presence_of_element_located((By.CSS_SELECTOR, eidya_search_keyword_css ))).clear()\n",
    "\n",
    "    # 이디야 주소 검색어 입력\n",
    "   \n",
    "    WebDriverWait(driver, 5).until(EC.presence_of_element_located((By.CSS_SELECTOR, eidya_search_keyword_css ))).send_keys(f\"서울 {gu}\")\n",
    "\n",
    "    # 이디야 주소 검색 버튼 클릭\n",
    "    eidya_search_button_css = \"#keyword_div > form > button\"\n",
    "    WebDriverWait(driver, 5).until(EC.presence_of_element_located((By.CSS_SELECTOR, eidya_search_button_css ))).click()\n",
    "    \n",
    "    #이디야 구장 매장 정보 수집\n",
    "    html = driver.page_source\n",
    "    soup = BeautifulSoup(html, \"html.parser\")\n",
    "    ul_tag = soup.find(\"ul\", id=\"placesList\")\n",
    "    dl_all = ul_tag.find_all(\"dl\")\n",
    "    \n",
    "    for dl in dl_all:\n",
    "        name = dl.find(\"dt\").text.strip()\n",
    "        address = dl.find(\"dd\").text.strip()\n",
    "        gu = address.split(\" \")[1]\n",
    "        each = {\n",
    "            \"매장이름\":name, \"주소\":address, \"구\":gu, \"브랜드\":\"이디야\"\n",
    "        }\n",
    "        eidya_data.append(each)"
   ]
  },
  {
   "cell_type": "code",
   "execution_count": 26,
   "id": "c678c6d5",
   "metadata": {},
   "outputs": [
    {
     "data": {
      "text/plain": [
       "724"
      ]
     },
     "execution_count": 26,
     "metadata": {},
     "output_type": "execute_result"
    }
   ],
   "source": [
    "len(eidya_data)"
   ]
  },
  {
   "cell_type": "code",
   "execution_count": 27,
   "id": "d2b5e28a",
   "metadata": {},
   "outputs": [
    {
     "data": {
      "text/html": [
       "<div>\n",
       "<style scoped>\n",
       "    .dataframe tbody tr th:only-of-type {\n",
       "        vertical-align: middle;\n",
       "    }\n",
       "\n",
       "    .dataframe tbody tr th {\n",
       "        vertical-align: top;\n",
       "    }\n",
       "\n",
       "    .dataframe thead th {\n",
       "        text-align: right;\n",
       "    }\n",
       "</style>\n",
       "<table border=\"1\" class=\"dataframe\">\n",
       "  <thead>\n",
       "    <tr style=\"text-align: right;\">\n",
       "      <th></th>\n",
       "      <th>매장이름</th>\n",
       "      <th>주소</th>\n",
       "      <th>구</th>\n",
       "      <th>브랜드</th>\n",
       "    </tr>\n",
       "  </thead>\n",
       "  <tbody>\n",
       "    <tr>\n",
       "      <th>719</th>\n",
       "      <td>용산청파점</td>\n",
       "      <td>서울 용산구 청파로71길 10 (청파동1가, 새마을금고)</td>\n",
       "      <td>용산구</td>\n",
       "      <td>이디야</td>\n",
       "    </tr>\n",
       "    <tr>\n",
       "      <th>720</th>\n",
       "      <td>용산효창점</td>\n",
       "      <td>서울 용산구 효창원로66길 2 (효창동)</td>\n",
       "      <td>용산구</td>\n",
       "      <td>이디야</td>\n",
       "    </tr>\n",
       "    <tr>\n",
       "      <th>721</th>\n",
       "      <td>용산후암점</td>\n",
       "      <td>서울 용산구 후암로 40-2 (후암동, 성원빌딩)</td>\n",
       "      <td>용산구</td>\n",
       "      <td>이디야</td>\n",
       "    </tr>\n",
       "    <tr>\n",
       "      <th>722</th>\n",
       "      <td>원효로점</td>\n",
       "      <td>서울 용산구 원효로 257 (원효로1가)</td>\n",
       "      <td>용산구</td>\n",
       "      <td>이디야</td>\n",
       "    </tr>\n",
       "    <tr>\n",
       "      <th>723</th>\n",
       "      <td>이태원역점</td>\n",
       "      <td>서울 용산구 이태원로 176 (이태원동)</td>\n",
       "      <td>용산구</td>\n",
       "      <td>이디야</td>\n",
       "    </tr>\n",
       "  </tbody>\n",
       "</table>\n",
       "</div>"
      ],
      "text/plain": [
       "      매장이름                               주소    구  브랜드\n",
       "719  용산청파점  서울 용산구 청파로71길 10 (청파동1가, 새마을금고)  용산구  이디야\n",
       "720  용산효창점           서울 용산구 효창원로66길 2 (효창동)  용산구  이디야\n",
       "721  용산후암점      서울 용산구 후암로 40-2 (후암동, 성원빌딩)  용산구  이디야\n",
       "722   원효로점           서울 용산구 원효로 257 (원효로1가)  용산구  이디야\n",
       "723  이태원역점           서울 용산구 이태원로 176 (이태원동)  용산구  이디야"
      ]
     },
     "execution_count": 27,
     "metadata": {},
     "output_type": "execute_result"
    }
   ],
   "source": [
    "df_ediya = pd.DataFrame(eidya_data)\n",
    "df_ediya.tail()"
   ]
  },
  {
   "cell_type": "code",
   "execution_count": 30,
   "id": "753258e1",
   "metadata": {},
   "outputs": [],
   "source": [
    "df_coffee = pd.concat([df_starbucks, df_ediya])\n",
    "df_coffee.reset_index(drop=True, inplace=True)"
   ]
  },
  {
   "cell_type": "code",
   "execution_count": 31,
   "id": "89801722",
   "metadata": {
    "scrolled": false
   },
   "outputs": [
    {
     "data": {
      "text/html": [
       "<div>\n",
       "<style scoped>\n",
       "    .dataframe tbody tr th:only-of-type {\n",
       "        vertical-align: middle;\n",
       "    }\n",
       "\n",
       "    .dataframe tbody tr th {\n",
       "        vertical-align: top;\n",
       "    }\n",
       "\n",
       "    .dataframe thead th {\n",
       "        text-align: right;\n",
       "    }\n",
       "</style>\n",
       "<table border=\"1\" class=\"dataframe\">\n",
       "  <thead>\n",
       "    <tr style=\"text-align: right;\">\n",
       "      <th></th>\n",
       "      <th>매장이름</th>\n",
       "      <th>주소</th>\n",
       "      <th>구</th>\n",
       "      <th>브랜드</th>\n",
       "    </tr>\n",
       "  </thead>\n",
       "  <tbody>\n",
       "    <tr>\n",
       "      <th>1318</th>\n",
       "      <td>용산청파점</td>\n",
       "      <td>서울 용산구 청파로71길 10 (청파동1가, 새마을금고)</td>\n",
       "      <td>용산구</td>\n",
       "      <td>이디야</td>\n",
       "    </tr>\n",
       "    <tr>\n",
       "      <th>1319</th>\n",
       "      <td>용산효창점</td>\n",
       "      <td>서울 용산구 효창원로66길 2 (효창동)</td>\n",
       "      <td>용산구</td>\n",
       "      <td>이디야</td>\n",
       "    </tr>\n",
       "    <tr>\n",
       "      <th>1320</th>\n",
       "      <td>용산후암점</td>\n",
       "      <td>서울 용산구 후암로 40-2 (후암동, 성원빌딩)</td>\n",
       "      <td>용산구</td>\n",
       "      <td>이디야</td>\n",
       "    </tr>\n",
       "    <tr>\n",
       "      <th>1321</th>\n",
       "      <td>원효로점</td>\n",
       "      <td>서울 용산구 원효로 257 (원효로1가)</td>\n",
       "      <td>용산구</td>\n",
       "      <td>이디야</td>\n",
       "    </tr>\n",
       "    <tr>\n",
       "      <th>1322</th>\n",
       "      <td>이태원역점</td>\n",
       "      <td>서울 용산구 이태원로 176 (이태원동)</td>\n",
       "      <td>용산구</td>\n",
       "      <td>이디야</td>\n",
       "    </tr>\n",
       "  </tbody>\n",
       "</table>\n",
       "</div>"
      ],
      "text/plain": [
       "       매장이름                               주소    구  브랜드\n",
       "1318  용산청파점  서울 용산구 청파로71길 10 (청파동1가, 새마을금고)  용산구  이디야\n",
       "1319  용산효창점           서울 용산구 효창원로66길 2 (효창동)  용산구  이디야\n",
       "1320  용산후암점      서울 용산구 후암로 40-2 (후암동, 성원빌딩)  용산구  이디야\n",
       "1321   원효로점           서울 용산구 원효로 257 (원효로1가)  용산구  이디야\n",
       "1322  이태원역점           서울 용산구 이태원로 176 (이태원동)  용산구  이디야"
      ]
     },
     "execution_count": 31,
     "metadata": {},
     "output_type": "execute_result"
    }
   ],
   "source": [
    "df_coffee.tail()"
   ]
  },
  {
   "cell_type": "code",
   "execution_count": 33,
   "id": "4c829691",
   "metadata": {},
   "outputs": [
    {
     "name": "stdout",
     "output_type": "stream",
     "text": [
      "Collecting googlemaps\n",
      "  Downloading googlemaps-4.10.0.tar.gz (33 kB)\n",
      "  Preparing metadata (setup.py): started\n",
      "  Preparing metadata (setup.py): finished with status 'done'\n",
      "Requirement already satisfied: requests<3.0,>=2.20.0 in c:\\users\\jukim\\anaconda3\\lib\\site-packages (from googlemaps) (2.28.1)\n",
      "Requirement already satisfied: idna<4,>=2.5 in c:\\users\\jukim\\anaconda3\\lib\\site-packages (from requests<3.0,>=2.20.0->googlemaps) (3.3)\n",
      "Requirement already satisfied: urllib3<1.27,>=1.21.1 in c:\\users\\jukim\\anaconda3\\lib\\site-packages (from requests<3.0,>=2.20.0->googlemaps) (1.26.11)\n",
      "Requirement already satisfied: charset-normalizer<3,>=2 in c:\\users\\jukim\\anaconda3\\lib\\site-packages (from requests<3.0,>=2.20.0->googlemaps) (2.0.4)\n",
      "Requirement already satisfied: certifi>=2017.4.17 in c:\\users\\jukim\\anaconda3\\lib\\site-packages (from requests<3.0,>=2.20.0->googlemaps) (2022.9.14)\n",
      "Building wheels for collected packages: googlemaps\n",
      "  Building wheel for googlemaps (setup.py): started\n",
      "  Building wheel for googlemaps (setup.py): finished with status 'done'\n",
      "  Created wheel for googlemaps: filename=googlemaps-4.10.0-py3-none-any.whl size=40717 sha256=8ed74e32fc2b00cff4014b2911ef81b2d37a67d9f7c17ee34c5f18900b0f3fc9\n",
      "  Stored in directory: c:\\users\\jukim\\appdata\\local\\pip\\cache\\wheels\\d9\\5f\\46\\54a2bdb4bcb07d3faba4463d2884865705914cc72a7b8bb5f0\n",
      "Successfully built googlemaps\n",
      "Installing collected packages: googlemaps\n",
      "Successfully installed googlemaps-4.10.0\n"
     ]
    }
   ],
   "source": [
    "!pip install googlemaps"
   ]
  },
  {
   "cell_type": "markdown",
   "id": "c1bd1bb1",
   "metadata": {},
   "source": [
    "### 구글 지도를 이용한 매장의 위치 자표 반환"
   ]
  },
  {
   "cell_type": "code",
   "execution_count": 34,
   "id": "42ea76d8",
   "metadata": {},
   "outputs": [],
   "source": [
    "import googlemaps"
   ]
  },
  {
   "cell_type": "code",
   "execution_count": null,
   "id": "bcdec52b",
   "metadata": {},
   "outputs": [],
   "source": [
    "google_maps_key = \"AIl\""
   ]
  },
  {
   "cell_type": "code",
   "execution_count": null,
   "id": "fb5939e0",
   "metadata": {},
   "outputs": [],
   "source": []
  },
  {
   "cell_type": "code",
   "execution_count": null,
   "id": "da477c30",
   "metadata": {},
   "outputs": [],
   "source": []
  },
  {
   "cell_type": "code",
   "execution_count": 17,
   "id": "9f525f3f",
   "metadata": {},
   "outputs": [],
   "source": [
    "# 이디야 주소 검색 클릭\n",
    "eidya_address_css = \"#contentWrap > div.contents > div > div.store_search_pop > ul > li:nth-child(2) > a\"\n",
    "WebDriverWait(driver, 5).until(EC.presence_of_element_located((By.CSS_SELECTOR, eidya_address_css))).click()"
   ]
  },
  {
   "cell_type": "code",
   "execution_count": 18,
   "id": "aabf5721",
   "metadata": {},
   "outputs": [],
   "source": [
    "# 이디야 주소 검색어 입력\n",
    "eidya_search_keyword_css = \"#keyword\"\n",
    "WebDriverWait(driver, 5).until(EC.presence_of_element_located((By.CSS_SELECTOR, eidya_search_keyword_css ))).send_keys(\"서울 강남구\")"
   ]
  },
  {
   "cell_type": "code",
   "execution_count": 19,
   "id": "c97afa89",
   "metadata": {},
   "outputs": [],
   "source": [
    "# 이디야 주소 검색 버튼 클릭\n",
    "eidya_search_button_css = \"#keyword_div > form > button\"\n",
    "WebDriverWait(driver, 5).until(EC.presence_of_element_located((By.CSS_SELECTOR, eidya_search_button_css ))).click()"
   ]
  },
  {
   "cell_type": "code",
   "execution_count": null,
   "id": "2faa53ae",
   "metadata": {},
   "outputs": [],
   "source": []
  },
  {
   "cell_type": "code",
   "execution_count": null,
   "id": "095ceb00",
   "metadata": {},
   "outputs": [],
   "source": []
  },
  {
   "cell_type": "code",
   "execution_count": null,
   "id": "2bbfd575",
   "metadata": {},
   "outputs": [],
   "source": []
  },
  {
   "cell_type": "code",
   "execution_count": null,
   "id": "887dbf38",
   "metadata": {},
   "outputs": [],
   "source": []
  }
 ],
 "metadata": {
  "kernelspec": {
   "display_name": "Python 3 (ipykernel)",
   "language": "python",
   "name": "python3"
  },
  "language_info": {
   "codemirror_mode": {
    "name": "ipython",
    "version": 3
   },
   "file_extension": ".py",
   "mimetype": "text/x-python",
   "name": "python",
   "nbconvert_exporter": "python",
   "pygments_lexer": "ipython3",
   "version": "3.9.13"
  }
 },
 "nbformat": 4,
 "nbformat_minor": 5
}
