{
 "cells": [
  {
   "cell_type": "code",
   "execution_count": null,
   "id": "6e47752f",
   "metadata": {},
   "outputs": [],
   "source": [
    "# 딕셔너리를 이용한 데이터프레임 생성"
   ]
  },
  {
   "cell_type": "code",
   "execution_count": 3,
   "id": "9186cd75",
   "metadata": {},
   "outputs": [
    {
     "data": {
      "text/html": [
       "<div>\n",
       "<style scoped>\n",
       "    .dataframe tbody tr th:only-of-type {\n",
       "        vertical-align: middle;\n",
       "    }\n",
       "\n",
       "    .dataframe tbody tr th {\n",
       "        vertical-align: top;\n",
       "    }\n",
       "\n",
       "    .dataframe thead th {\n",
       "        text-align: right;\n",
       "    }\n",
       "</style>\n",
       "<table border=\"1\" class=\"dataframe\">\n",
       "  <thead>\n",
       "    <tr style=\"text-align: right;\">\n",
       "      <th></th>\n",
       "      <th>KOSPI</th>\n",
       "      <th>KOSDAQ</th>\n",
       "    </tr>\n",
       "  </thead>\n",
       "  <tbody>\n",
       "    <tr>\n",
       "      <th>2014</th>\n",
       "      <td>1915</td>\n",
       "      <td>542</td>\n",
       "    </tr>\n",
       "    <tr>\n",
       "      <th>2015</th>\n",
       "      <td>1961</td>\n",
       "      <td>682</td>\n",
       "    </tr>\n",
       "    <tr>\n",
       "      <th>2016</th>\n",
       "      <td>2026</td>\n",
       "      <td>631</td>\n",
       "    </tr>\n",
       "    <tr>\n",
       "      <th>2017</th>\n",
       "      <td>2467</td>\n",
       "      <td>798</td>\n",
       "    </tr>\n",
       "    <tr>\n",
       "      <th>2018</th>\n",
       "      <td>2041</td>\n",
       "      <td>675</td>\n",
       "    </tr>\n",
       "  </tbody>\n",
       "</table>\n",
       "</div>"
      ],
      "text/plain": [
       "      KOSPI  KOSDAQ\n",
       "2014   1915     542\n",
       "2015   1961     682\n",
       "2016   2026     631\n",
       "2017   2467     798\n",
       "2018   2041     675"
      ]
     },
     "execution_count": 3,
     "metadata": {},
     "output_type": "execute_result"
    }
   ],
   "source": [
    "import pandas as pd\n",
    "df = pd.DataFrame({'KOSPI': [1915, 1961, 2026, 2467, 2041], 'KOSDAQ' : [542, 682, 631, 798, 675]},\n",
    "                 index=[2014, 2015, 2016, 2017, 2018])\n",
    "df"
   ]
  },
  {
   "cell_type": "code",
   "execution_count": 4,
   "id": "767e95e3",
   "metadata": {},
   "outputs": [
    {
     "data": {
      "text/html": [
       "<div>\n",
       "<style scoped>\n",
       "    .dataframe tbody tr th:only-of-type {\n",
       "        vertical-align: middle;\n",
       "    }\n",
       "\n",
       "    .dataframe tbody tr th {\n",
       "        vertical-align: top;\n",
       "    }\n",
       "\n",
       "    .dataframe thead th {\n",
       "        text-align: right;\n",
       "    }\n",
       "</style>\n",
       "<table border=\"1\" class=\"dataframe\">\n",
       "  <thead>\n",
       "    <tr style=\"text-align: right;\">\n",
       "      <th></th>\n",
       "      <th>KOSPI</th>\n",
       "      <th>KOSDAQ</th>\n",
       "    </tr>\n",
       "  </thead>\n",
       "  <tbody>\n",
       "    <tr>\n",
       "      <th>count</th>\n",
       "      <td>5.000000</td>\n",
       "      <td>5.000000</td>\n",
       "    </tr>\n",
       "    <tr>\n",
       "      <th>mean</th>\n",
       "      <td>2082.000000</td>\n",
       "      <td>665.600000</td>\n",
       "    </tr>\n",
       "    <tr>\n",
       "      <th>std</th>\n",
       "      <td>221.117616</td>\n",
       "      <td>92.683871</td>\n",
       "    </tr>\n",
       "    <tr>\n",
       "      <th>min</th>\n",
       "      <td>1915.000000</td>\n",
       "      <td>542.000000</td>\n",
       "    </tr>\n",
       "    <tr>\n",
       "      <th>25%</th>\n",
       "      <td>1961.000000</td>\n",
       "      <td>631.000000</td>\n",
       "    </tr>\n",
       "    <tr>\n",
       "      <th>50%</th>\n",
       "      <td>2026.000000</td>\n",
       "      <td>675.000000</td>\n",
       "    </tr>\n",
       "    <tr>\n",
       "      <th>75%</th>\n",
       "      <td>2041.000000</td>\n",
       "      <td>682.000000</td>\n",
       "    </tr>\n",
       "    <tr>\n",
       "      <th>max</th>\n",
       "      <td>2467.000000</td>\n",
       "      <td>798.000000</td>\n",
       "    </tr>\n",
       "  </tbody>\n",
       "</table>\n",
       "</div>"
      ],
      "text/plain": [
       "             KOSPI      KOSDAQ\n",
       "count     5.000000    5.000000\n",
       "mean   2082.000000  665.600000\n",
       "std     221.117616   92.683871\n",
       "min    1915.000000  542.000000\n",
       "25%    1961.000000  631.000000\n",
       "50%    2026.000000  675.000000\n",
       "75%    2041.000000  682.000000\n",
       "max    2467.000000  798.000000"
      ]
     },
     "execution_count": 4,
     "metadata": {},
     "output_type": "execute_result"
    }
   ],
   "source": [
    "df.describe()"
   ]
  },
  {
   "cell_type": "code",
   "execution_count": 5,
   "id": "b5be4155",
   "metadata": {},
   "outputs": [
    {
     "name": "stdout",
     "output_type": "stream",
     "text": [
      "<class 'pandas.core.frame.DataFrame'>\n",
      "Int64Index: 5 entries, 2014 to 2018\n",
      "Data columns (total 2 columns):\n",
      " #   Column  Non-Null Count  Dtype\n",
      "---  ------  --------------  -----\n",
      " 0   KOSPI   5 non-null      int64\n",
      " 1   KOSDAQ  5 non-null      int64\n",
      "dtypes: int64(2)\n",
      "memory usage: 120.0 bytes\n"
     ]
    }
   ],
   "source": [
    "df.info()"
   ]
  },
  {
   "cell_type": "code",
   "execution_count": 7,
   "id": "3ef78d55",
   "metadata": {},
   "outputs": [],
   "source": [
    "# 시리즈를 이용한 데이터프레임 생성"
   ]
  },
  {
   "cell_type": "code",
   "execution_count": 9,
   "id": "6cd495bb",
   "metadata": {},
   "outputs": [
    {
     "data": {
      "text/plain": [
       "2014    1915\n",
       "2015    1961\n",
       "2016    2026\n",
       "2017    2467\n",
       "2018    2041\n",
       "Name: KOSPI, dtype: int64"
      ]
     },
     "execution_count": 9,
     "metadata": {},
     "output_type": "execute_result"
    }
   ],
   "source": [
    "kospi = pd.Series([1915, 1961, 2026, 2467, 2041],\n",
    "                 index=[2014, 2015, 2016, 2017, 2018], name='KOSPI')\n",
    "kospi"
   ]
  },
  {
   "cell_type": "code",
   "execution_count": 10,
   "id": "a6874a67",
   "metadata": {},
   "outputs": [
    {
     "data": {
      "text/plain": [
       "2014    542\n",
       "2015    682\n",
       "2016    631\n",
       "2017    798\n",
       "2018    675\n",
       "Name: KOSDAQ, dtype: int64"
      ]
     },
     "execution_count": 10,
     "metadata": {},
     "output_type": "execute_result"
    }
   ],
   "source": [
    "kosdaq = pd.Series([542, 682, 631, 798, 675],\n",
    "                 index=[2014, 2015, 2016, 2017, 2018], name='KOSDAQ')\n",
    "kosdaq"
   ]
  },
  {
   "cell_type": "code",
   "execution_count": 12,
   "id": "18ffab6a",
   "metadata": {},
   "outputs": [
    {
     "data": {
      "text/html": [
       "<div>\n",
       "<style scoped>\n",
       "    .dataframe tbody tr th:only-of-type {\n",
       "        vertical-align: middle;\n",
       "    }\n",
       "\n",
       "    .dataframe tbody tr th {\n",
       "        vertical-align: top;\n",
       "    }\n",
       "\n",
       "    .dataframe thead th {\n",
       "        text-align: right;\n",
       "    }\n",
       "</style>\n",
       "<table border=\"1\" class=\"dataframe\">\n",
       "  <thead>\n",
       "    <tr style=\"text-align: right;\">\n",
       "      <th></th>\n",
       "      <th>KOSPI</th>\n",
       "      <th>KOSDAQ</th>\n",
       "    </tr>\n",
       "  </thead>\n",
       "  <tbody>\n",
       "    <tr>\n",
       "      <th>2014</th>\n",
       "      <td>1915</td>\n",
       "      <td>542</td>\n",
       "    </tr>\n",
       "    <tr>\n",
       "      <th>2015</th>\n",
       "      <td>1961</td>\n",
       "      <td>682</td>\n",
       "    </tr>\n",
       "    <tr>\n",
       "      <th>2016</th>\n",
       "      <td>2026</td>\n",
       "      <td>631</td>\n",
       "    </tr>\n",
       "    <tr>\n",
       "      <th>2017</th>\n",
       "      <td>2467</td>\n",
       "      <td>798</td>\n",
       "    </tr>\n",
       "    <tr>\n",
       "      <th>2018</th>\n",
       "      <td>2041</td>\n",
       "      <td>675</td>\n",
       "    </tr>\n",
       "  </tbody>\n",
       "</table>\n",
       "</div>"
      ],
      "text/plain": [
       "      KOSPI  KOSDAQ\n",
       "2014   1915     542\n",
       "2015   1961     682\n",
       "2016   2026     631\n",
       "2017   2467     798\n",
       "2018   2041     675"
      ]
     },
     "execution_count": 12,
     "metadata": {},
     "output_type": "execute_result"
    }
   ],
   "source": [
    "df = pd.DataFrame({kospi.name: kospi, kosdaq.name: kosdaq})\n",
    "df"
   ]
  },
  {
   "cell_type": "code",
   "execution_count": 14,
   "id": "3c060f3d",
   "metadata": {},
   "outputs": [],
   "source": [
    "# 리스트를 이용한 데이터프레임 생성"
   ]
  },
  {
   "cell_type": "code",
   "execution_count": 17,
   "id": "479f9042",
   "metadata": {},
   "outputs": [
    {
     "data": {
      "text/html": [
       "<div>\n",
       "<style scoped>\n",
       "    .dataframe tbody tr th:only-of-type {\n",
       "        vertical-align: middle;\n",
       "    }\n",
       "\n",
       "    .dataframe tbody tr th {\n",
       "        vertical-align: top;\n",
       "    }\n",
       "\n",
       "    .dataframe thead th {\n",
       "        text-align: right;\n",
       "    }\n",
       "</style>\n",
       "<table border=\"1\" class=\"dataframe\">\n",
       "  <thead>\n",
       "    <tr style=\"text-align: right;\">\n",
       "      <th></th>\n",
       "      <th>KOSPI</th>\n",
       "      <th>KOSDAQ</th>\n",
       "    </tr>\n",
       "  </thead>\n",
       "  <tbody>\n",
       "    <tr>\n",
       "      <th>2014</th>\n",
       "      <td>1915</td>\n",
       "      <td>542</td>\n",
       "    </tr>\n",
       "    <tr>\n",
       "      <th>2015</th>\n",
       "      <td>1961</td>\n",
       "      <td>682</td>\n",
       "    </tr>\n",
       "    <tr>\n",
       "      <th>2016</th>\n",
       "      <td>2026</td>\n",
       "      <td>631</td>\n",
       "    </tr>\n",
       "    <tr>\n",
       "      <th>2017</th>\n",
       "      <td>2467</td>\n",
       "      <td>798</td>\n",
       "    </tr>\n",
       "    <tr>\n",
       "      <th>2018</th>\n",
       "      <td>2041</td>\n",
       "      <td>675</td>\n",
       "    </tr>\n",
       "  </tbody>\n",
       "</table>\n",
       "</div>"
      ],
      "text/plain": [
       "      KOSPI  KOSDAQ\n",
       "2014   1915     542\n",
       "2015   1961     682\n",
       "2016   2026     631\n",
       "2017   2467     798\n",
       "2018   2041     675"
      ]
     },
     "execution_count": 17,
     "metadata": {},
     "output_type": "execute_result"
    }
   ],
   "source": [
    "columns = ['KOSPI', 'KOSDAQ']\n",
    "index = [2014, 2015, 2016, 2017, 2018]\n",
    "rows = []\n",
    "rows.append([1915, 542])\n",
    "rows.append([1961, 682])\n",
    "rows.append([2026, 631])\n",
    "rows.append([2467, 798])\n",
    "rows.append([2041, 675])\n",
    "\n",
    "df = pd.DataFrame(rows, columns=columns, index=index)\n",
    "df"
   ]
  },
  {
   "cell_type": "code",
   "execution_count": 18,
   "id": "4fb6ac7a",
   "metadata": {},
   "outputs": [],
   "source": [
    "#데이터프레임 순회처리"
   ]
  },
  {
   "cell_type": "code",
   "execution_count": 20,
   "id": "cdbabccd",
   "metadata": {},
   "outputs": [
    {
     "name": "stdout",
     "output_type": "stream",
     "text": [
      "2014 1915 542\n",
      "2015 1961 682\n",
      "2016 2026 631\n",
      "2017 2467 798\n",
      "2018 2041 675\n"
     ]
    }
   ],
   "source": [
    "for i in df.index:\n",
    "    print(i, df['KOSPI'][i], df['KOSDAQ'][i])"
   ]
  },
  {
   "cell_type": "code",
   "execution_count": 22,
   "id": "ffcfc6b4",
   "metadata": {},
   "outputs": [
    {
     "name": "stdout",
     "output_type": "stream",
     "text": [
      "KRX(Index=2014, KOSPI=1915, KOSDAQ=542)\n",
      "KRX(Index=2015, KOSPI=1961, KOSDAQ=682)\n",
      "KRX(Index=2016, KOSPI=2026, KOSDAQ=631)\n",
      "KRX(Index=2017, KOSPI=2467, KOSDAQ=798)\n",
      "KRX(Index=2018, KOSPI=2041, KOSDAQ=675)\n"
     ]
    }
   ],
   "source": [
    "for row in df.itertuples(name='KRX'):\n",
    "    print(row)\n",
    "    "
   ]
  },
  {
   "cell_type": "code",
   "execution_count": 23,
   "id": "381608d3",
   "metadata": {},
   "outputs": [
    {
     "name": "stdout",
     "output_type": "stream",
     "text": [
      "2014 1915 542\n",
      "2015 1961 682\n",
      "2016 2026 631\n",
      "2017 2467 798\n",
      "2018 2041 675\n"
     ]
    }
   ],
   "source": [
    "for row in df.itertuples():\n",
    "    print(row[0], row[1], row[2])"
   ]
  },
  {
   "cell_type": "code",
   "execution_count": null,
   "id": "37886a11",
   "metadata": {},
   "outputs": [],
   "source": []
  }
 ],
 "metadata": {
  "kernelspec": {
   "display_name": "Python 3 (ipykernel)",
   "language": "python",
   "name": "python3"
  },
  "language_info": {
   "codemirror_mode": {
    "name": "ipython",
    "version": 3
   },
   "file_extension": ".py",
   "mimetype": "text/x-python",
   "name": "python",
   "nbconvert_exporter": "python",
   "pygments_lexer": "ipython3",
   "version": "3.9.13"
  }
 },
 "nbformat": 4,
 "nbformat_minor": 5
}
